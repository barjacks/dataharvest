{
 "cells": [
  {
   "cell_type": "markdown",
   "metadata": {},
   "source": [
    "# Introduction"
   ]
  },
  {
   "cell_type": "markdown",
   "metadata": {},
   "source": [
    "In this workshop Python V, we'll be scraping the work of the late Daphne Caruana Galizia, unless somebody else has a website they desparately would like to scrape. In that case, we'll look at that. What we'll be looking at in depth is the a technique to basically scrape any website that doesn't need interaction. As soon as interaction comes into play, things will get a lot more complicated.\n",
    "\n",
    "[BeautifulSoup Documentation](https://www.crummy.com/software/BeautifulSoup/bs4/doc/)"
   ]
  },
  {
   "cell_type": "markdown",
   "metadata": {},
   "source": [
    "# Imports"
   ]
  },
  {
   "cell_type": "markdown",
   "metadata": {},
   "source": [
    "First of all, we'll import the modules and libraries we'll be needing. "
   ]
  },
  {
   "cell_type": "code",
   "execution_count": 3,
   "metadata": {},
   "outputs": [],
   "source": [
    "from bs4 import BeautifulSoup\n",
    "#This lets us parse the information we need from the website we are visiting.\n",
    "import requests\n",
    "#This lets us visit any URL automatically.\n",
    "import pandas as pd\n",
    "#We'll use Pandas to store the data we have scraped\n",
    "import pickle\n",
    "#We could also use Pickle, if we want to store the data more efficiently.\n",
    "import time\n",
    "#This combined with the \n",
    "import progressbar\n",
    "#If you need to install any of these modules or libraries please do so with the !pip install XXX command. \n",
    "#```time```will be installed already, and ```pip install progressbar2```needs a 2 at the end."
   ]
  },
  {
   "cell_type": "markdown",
   "metadata": {},
   "source": [
    "# Strategy - how do you want to proceed?\n",
    "\n",
    "1. Pull out all the URLs including the date\n",
    "2. Use a list of them to visit every URL\n",
    "3. Use each and every URL to pull out the text"
   ]
  },
  {
   "cell_type": "markdown",
   "metadata": {},
   "source": [
    "# Set up"
   ]
  },
  {
   "cell_type": "code",
   "execution_count": 5,
   "metadata": {
    "collapsed": true
   },
   "outputs": [],
   "source": [
    "# Let's get started: scrape main page\n",
    "url = \"https://daphnecaruanagalizia.com\"\n",
    "response = requests.get(url)\n",
    "daphne = BeautifulSoup(response.text, 'html.parser')"
   ]
  },
  {
   "cell_type": "code",
   "execution_count": null,
   "metadata": {
    "collapsed": true
   },
   "outputs": [],
   "source": [
    "daphne"
   ]
  },
  {
   "cell_type": "markdown",
   "metadata": {},
   "source": [
    "# Find, Find All & .text"
   ]
  },
  {
   "cell_type": "markdown",
   "metadata": {},
   "source": [
    "First, lets take a look at [Googles Developer Tools](https://developer.chrome.com/devtools) (I hope you're using Google Chrome). We'll use the developer tools to get the structural information of the site."
   ]
  },
  {
   "cell_type": "code",
   "execution_count": 11,
   "metadata": {
    "collapsed": true
   },
   "outputs": [],
   "source": [
    "# Looking for the first post on the page\n",
    "post = daphne.find(\"div\", class_=\"postmaster\")"
   ]
  },
  {
   "cell_type": "code",
   "execution_count": 12,
   "metadata": {},
   "outputs": [
    {
     "data": {
      "text/plain": [
       "<div class=\"postmaster\" data-postid=\"97964\">\n",
       "<p class=\"column-caption\"></p>\n",
       "<div class=\"post\">\n",
       "<h1><a href=\"https://daphnecaruanagalizia.com/2017/10/first-things-first-something-horrendous-posture/\" rel=\"bookmark\" title=\"Permanent Link to First things first: do something about that horrendous posture\">\n",
       "First things first: do something about that horrendous posture </a>\n",
       "</h1>\n",
       "<div class=\"entry\">\n",
       "<p>\n",
       "You can wear the flashiest watch and keep your snazzy shirt-cuff turned up to make …</p>\n",
       "</div>\n",
       "<p class=\"postmetadata\"><a href=\"https://daphnecaruanagalizia.com/2017/10/first-things-first-something-horrendous-posture/#respond\">Post a comment</a> | <a href=\"https://daphnecaruanagalizia.com/2017/10/first-things-first-something-horrendous-posture/#comments\"><span class=\"dsq-postid\" data-dsqidentifier=\"97964 https://daphnecaruanagalizia.com/?p=97964\">Read (4)</span></a> | <span class=\"time\">Monday, 16 October 2:09 pm</span></p>\n",
       "</div>\n",
       "</div>"
      ]
     },
     "execution_count": 12,
     "metadata": {},
     "output_type": "execute_result"
    }
   ],
   "source": [
    "post"
   ]
  },
  {
   "cell_type": "code",
   "execution_count": 13,
   "metadata": {
    "collapsed": true
   },
   "outputs": [],
   "source": [
    "#Looking for all the posts on the page\n",
    "posts = daphne.find_all(\"div\", class_=\"postmaster\")"
   ]
  },
  {
   "cell_type": "code",
   "execution_count": 16,
   "metadata": {},
   "outputs": [
    {
     "data": {
      "text/plain": [
       "[<div class=\"postmaster\" data-postid=\"97964\">\n",
       " <p class=\"column-caption\"></p>\n",
       " <div class=\"post\">\n",
       " <h1><a href=\"https://daphnecaruanagalizia.com/2017/10/first-things-first-something-horrendous-posture/\" rel=\"bookmark\" title=\"Permanent Link to First things first: do something about that horrendous posture\">\n",
       " First things first: do something about that horrendous posture </a>\n",
       " </h1>\n",
       " <div class=\"entry\">\n",
       " <p>\n",
       " You can wear the flashiest watch and keep your snazzy shirt-cuff turned up to make …</p>\n",
       " </div>\n",
       " <p class=\"postmetadata\"><a href=\"https://daphnecaruanagalizia.com/2017/10/first-things-first-something-horrendous-posture/#respond\">Post a comment</a> | <a href=\"https://daphnecaruanagalizia.com/2017/10/first-things-first-something-horrendous-posture/#comments\"><span class=\"dsq-postid\" data-dsqidentifier=\"97964 https://daphnecaruanagalizia.com/?p=97964\">Read (4)</span></a> | <span class=\"time\">Monday, 16 October 2:09 pm</span></p>\n",
       " </div>\n",
       " </div>, <div class=\"postmaster\" data-postid=\"97961\">\n",
       " <p class=\"column-caption\"></p>\n",
       " <div class=\"post\">\n",
       " <h1><a href=\"https://daphnecaruanagalizia.com/2017/10/austrias-new-chancellor-31-will-form-coalition-neo-nazi/\" rel=\"bookmark\" title=\"Permanent Link to Austria’s new chancellor is 31 – and will have to form a coalition with a neo-Nazi\">\n",
       " Austria’s new chancellor is 31 – and will have to form a coalition with a neo-Nazi </a>\n",
       " </h1>\n",
       " <div class=\"entry\">\n",
       " <p>\n",
       " Exit polls show that Sebastian Kurz, 31, is about to become Austria’s new chancellor and …</p>\n",
       " </div>\n",
       " <p class=\"postmetadata\"><a href=\"https://daphnecaruanagalizia.com/2017/10/austrias-new-chancellor-31-will-form-coalition-neo-nazi/#respond\">Post a comment</a> | <a href=\"https://daphnecaruanagalizia.com/2017/10/austrias-new-chancellor-31-will-form-coalition-neo-nazi/#comments\"><span class=\"dsq-postid\" data-dsqidentifier=\"97961 https://daphnecaruanagalizia.com/?p=97961\">Read (18)</span></a> | <span class=\"time\">Sunday, 15 October 10:07 pm</span></p>\n",
       " </div>\n",
       " </div>, <div class=\"postmaster\" data-postid=\"97958\">\n",
       " <p class=\"column-caption\"></p>\n",
       " <div class=\"post\">\n",
       " <h1><a href=\"https://daphnecaruanagalizia.com/2017/10/party-leaders-sunday-morning/\" rel=\"bookmark\" title=\"Permanent Link to The party leaders and Sunday morning\">\n",
       " The party leaders and Sunday morning </a>\n",
       " </h1>\n",
       " <div class=\"entry\">\n",
       " <p>\n",
       " Is it going to be a five-year electoral campaign now, or what? I was in …</p>\n",
       " </div>\n",
       " <p class=\"postmetadata\"><a href=\"https://daphnecaruanagalizia.com/2017/10/party-leaders-sunday-morning/#respond\">Post a comment</a> | <a href=\"https://daphnecaruanagalizia.com/2017/10/party-leaders-sunday-morning/#comments\"><span class=\"dsq-postid\" data-dsqidentifier=\"97958 https://daphnecaruanagalizia.com/?p=97958\">Read (33)</span></a> | <span class=\"time\">Sunday, 15 October 7:26 pm</span></p>\n",
       " </div>\n",
       " </div>, <div class=\"postmaster\" data-postid=\"97955\">\n",
       " <p class=\"column-caption\"></p>\n",
       " <div class=\"post\">\n",
       " <h1><a href=\"https://daphnecaruanagalizia.com/2017/10/looks-like-delia-surrounding-like-minded-individuals/\" rel=\"bookmark\" title=\"Permanent Link to Looks like Delia is surrounding himself with like-minded individuals\">\n",
       " Looks like Delia is surrounding himself with like-minded individuals </a>\n",
       " </h1>\n",
       " <div class=\"entry\">\n",
       " <p>\n",
       " The disgraceful thing is that this man has been Nationalist Party whip in parliament for …</p>\n",
       " </div>\n",
       " <p class=\"postmetadata\"><a href=\"https://daphnecaruanagalizia.com/2017/10/looks-like-delia-surrounding-like-minded-individuals/#respond\">Post a comment</a> | <a href=\"https://daphnecaruanagalizia.com/2017/10/looks-like-delia-surrounding-like-minded-individuals/#comments\"><span class=\"dsq-postid\" data-dsqidentifier=\"97955 https://daphnecaruanagalizia.com/?p=97955\">Read (9)</span></a> | <span class=\"time\">Saturday, 14 October 12:52 am</span></p>\n",
       " </div>\n",
       " </div>, <div class=\"postmaster\" data-postid=\"97952\">\n",
       " <p class=\"column-caption\"></p>\n",
       " <div class=\"post\">\n",
       " <h1><a href=\"https://daphnecaruanagalizia.com/2017/10/chris-cardona-one-track-mind/\" rel=\"bookmark\" title=\"Permanent Link to Chris Cardona: a one-track mind\">\n",
       " Chris Cardona: a one-track mind </a>\n",
       " </h1>\n",
       " <div class=\"entry\">\n",
       " <p>\n",
       " “I don’t recall any other budget having given so much pleasure.”\n",
       " …</p>\n",
       " </div>\n",
       " <p class=\"postmetadata\"><a href=\"https://daphnecaruanagalizia.com/2017/10/chris-cardona-one-track-mind/#respond\">Post a comment</a> | <a href=\"https://daphnecaruanagalizia.com/2017/10/chris-cardona-one-track-mind/#comments\"><span class=\"dsq-postid\" data-dsqidentifier=\"97952 https://daphnecaruanagalizia.com/?p=97952\">Read (8)</span></a> | <span class=\"time\">Saturday, 14 October 12:26 am</span></p>\n",
       " </div>\n",
       " </div>, <div class=\"postmaster\" data-postid=\"97943\">\n",
       " <p class=\"column-caption\"></p>\n",
       " <div class=\"post\">\n",
       " <h1><a href=\"https://daphnecaruanagalizia.com/2017/10/david-thake-subject-adrian-delia/\" rel=\"bookmark\" title=\"Permanent Link to David Thake on the subject of Adrian Delia\">\n",
       " David Thake on the subject of Adrian Delia </a>\n",
       " </h1>\n",
       " <div class=\"entry\">\n",
       " <p>\n",
       " …</p>\n",
       " </div>\n",
       " <p class=\"postmetadata\"><a href=\"https://daphnecaruanagalizia.com/2017/10/david-thake-subject-adrian-delia/#respond\">Post a comment</a> | <a href=\"https://daphnecaruanagalizia.com/2017/10/david-thake-subject-adrian-delia/#comments\"><span class=\"dsq-postid\" data-dsqidentifier=\"97943 https://daphnecaruanagalizia.com/?p=97943\">Read (17)</span></a> | <span class=\"time\">Friday, 13 October 11:20 pm</span></p>\n",
       " </div>\n",
       " </div>, <div class=\"postmaster\" data-postid=\"97940\">\n",
       " <p class=\"column-caption\"></p>\n",
       " <div class=\"post\">\n",
       " <h1><a href=\"https://daphnecaruanagalizia.com/2017/10/not-blinded-little-intelligence-much-personal-ambition-reality/\" rel=\"bookmark\" title=\"Permanent Link to To all those who are not blinded by too little intelligence or too much personal ambition, this is the reality\">\n",
       " To all those who are not blinded by too little intelligence or too much personal ambition, this is the reality </a>\n",
       " </h1>\n",
       " <div class=\"entry\">\n",
       " <p>\n",
       " I mean, really\n",
       " …</p>\n",
       " </div>\n",
       " <p class=\"postmetadata\"><a href=\"https://daphnecaruanagalizia.com/2017/10/not-blinded-little-intelligence-much-personal-ambition-reality/#respond\">Post a comment</a> | <a href=\"https://daphnecaruanagalizia.com/2017/10/not-blinded-little-intelligence-much-personal-ambition-reality/#comments\"><span class=\"dsq-postid\" data-dsqidentifier=\"97940 https://daphnecaruanagalizia.com/?p=97940\">Read (4)</span></a> | <span class=\"time\">Friday, 13 October 6:29 pm</span></p>\n",
       " </div>\n",
       " </div>, <div class=\"postmaster\" data-postid=\"97937\">\n",
       " <p class=\"column-caption\"></p>\n",
       " <div class=\"post\">\n",
       " <h1><a href=\"https://daphnecaruanagalizia.com/2017/10/toni-bezzina-throws-hat-ring-two-minutes-deadline/\" rel=\"bookmark\" title=\"Permanent Link to Toni Bezzina throws hat into the ring two minutes before deadline\">\n",
       " Toni Bezzina throws hat into the ring two minutes before deadline </a>\n",
       " </h1>\n",
       " <div class=\"entry\">\n",
       " <p>\n",
       " Toni Bezzina, the member of parliament, entered the contest to become the Nationalist Party’s deputy …</p>\n",
       " </div>\n",
       " <p class=\"postmetadata\"><a href=\"https://daphnecaruanagalizia.com/2017/10/toni-bezzina-throws-hat-ring-two-minutes-deadline/#respond\">Post a comment</a> | <a href=\"https://daphnecaruanagalizia.com/2017/10/toni-bezzina-throws-hat-ring-two-minutes-deadline/#comments\"><span class=\"dsq-postid\" data-dsqidentifier=\"97937 https://daphnecaruanagalizia.com/?p=97937\">Read (8)</span></a> | <span class=\"time\">Friday, 13 October 6:19 pm</span></p>\n",
       " </div>\n",
       " </div>, <div class=\"postmaster\" data-postid=\"97933\">\n",
       " <p class=\"column-caption\"></p>\n",
       " <div class=\"post\">\n",
       " <h1><a href=\"https://daphnecaruanagalizia.com/2017/10/chris-said-just-made-public-statement-deputy-leadership-election/\" rel=\"bookmark\" title=\"Permanent Link to Chris Said has just made a public statement about the deputy leadership election\">\n",
       " Chris Said has just made a public statement about the deputy leadership election </a>\n",
       " </h1>\n",
       " <div class=\"entry\">\n",
       " <p>\n",
       " …</p>\n",
       " </div>\n",
       " <p class=\"postmetadata\"><a href=\"https://daphnecaruanagalizia.com/2017/10/chris-said-just-made-public-statement-deputy-leadership-election/#respond\">Post a comment</a> | <a href=\"https://daphnecaruanagalizia.com/2017/10/chris-said-just-made-public-statement-deputy-leadership-election/#comments\"><span class=\"dsq-postid\" data-dsqidentifier=\"97933 https://daphnecaruanagalizia.com/?p=97933\">Read (9)</span></a> | <span class=\"time\">Friday, 13 October 5:22 pm</span></p>\n",
       " </div>\n",
       " </div>, <div class=\"postmaster\" data-postid=\"97926\">\n",
       " <p class=\"column-caption\"></p>\n",
       " <div class=\"post\">\n",
       " <h1><a href=\"https://daphnecaruanagalizia.com/2017/10/chris-said-says-will-not-stand-election-nationalist-party-deputy-leader/\" rel=\"bookmark\" title=\"Permanent Link to Chris Said says he will not stand for election as Nationalist Party deputy leader\">\n",
       " Chris Said says he will not stand for election as Nationalist Party deputy leader </a>\n",
       " </h1>\n",
       " <div class=\"entry\">\n",
       " <p>\n",
       " David Agius today came forward officially as a contender for the election of the Nationalist …</p>\n",
       " </div>\n",
       " <p class=\"postmetadata\"><a href=\"https://daphnecaruanagalizia.com/2017/10/chris-said-says-will-not-stand-election-nationalist-party-deputy-leader/#respond\">Post a comment</a> | <a href=\"https://daphnecaruanagalizia.com/2017/10/chris-said-says-will-not-stand-election-nationalist-party-deputy-leader/#comments\"><span class=\"dsq-postid\" data-dsqidentifier=\"97926 https://daphnecaruanagalizia.com/?p=97926\">Read (15)</span></a> | <span class=\"time\">Friday, 13 October 4:46 pm</span></p>\n",
       " </div>\n",
       " </div>, <div class=\"postmaster\" data-postid=\"97923\">\n",
       " <p class=\"column-caption\"></p>\n",
       " <div class=\"post\">\n",
       " <h1><a href=\"https://daphnecaruanagalizia.com/2017/10/nationalist-party-deputy-leadership-contender-compares-politics-football-match/\" rel=\"bookmark\" title=\"Permanent Link to Nationalist Party deputy leadership contender compares politics to a football match\">\n",
       " Nationalist Party deputy leadership contender compares politics to a football match </a>\n",
       " </h1>\n",
       " <div class=\"entry\">\n",
       " <p>\n",
       " Yesterday in the car I was listening to the lunchtime talk-show on the Nationalist Party’s …</p>\n",
       " </div>\n",
       " <p class=\"postmetadata\"><a href=\"https://daphnecaruanagalizia.com/2017/10/nationalist-party-deputy-leadership-contender-compares-politics-football-match/#respond\">Post a comment</a> | <a href=\"https://daphnecaruanagalizia.com/2017/10/nationalist-party-deputy-leadership-contender-compares-politics-football-match/#comments\"><span class=\"dsq-postid\" data-dsqidentifier=\"97923 https://daphnecaruanagalizia.com/?p=97923\">Read (16)</span></a> | <span class=\"time\">Friday, 13 October 12:45 pm</span></p>\n",
       " </div>\n",
       " </div>, <div class=\"postmaster\" data-postid=\"97909\">\n",
       " <p class=\"column-caption\"></p>\n",
       " <div class=\"post\">\n",
       " <h1><a href=\"https://daphnecaruanagalizia.com/2017/10/opposition-leaders-wife-says-convicted-drug-dealers-girlfriend-one-closest-trusted-friends-drug-dealers-girlfriend-says-opposition-leaders-wife-close-friends-like/\" rel=\"bookmark\" title=\"Permanent Link to Opposition leader’s wife says convicted drug dealer’s girlfriend is “one of my closest and most trusted friends”; drug-dealer’s girlfriend says she and Opposition leader’s wife are “close friends like sisters”\">\n",
       " Opposition leader’s wife says convicted drug dealer’s girlfriend is “one of my closest and most t... </a>\n",
       " </h1>\n",
       " <div class=\"entry\">\n",
       " <p>\n",
       " In an interview with The Malta Independent last Sunday, Mrs Delia – the Opposition leader’s …</p>\n",
       " </div>\n",
       " <p class=\"postmetadata\"><a href=\"https://daphnecaruanagalizia.com/2017/10/opposition-leaders-wife-says-convicted-drug-dealers-girlfriend-one-closest-trusted-friends-drug-dealers-girlfriend-says-opposition-leaders-wife-close-friends-like/#respond\">Post a comment</a> | <a href=\"https://daphnecaruanagalizia.com/2017/10/opposition-leaders-wife-says-convicted-drug-dealers-girlfriend-one-closest-trusted-friends-drug-dealers-girlfriend-says-opposition-leaders-wife-close-friends-like/#comments\"><span class=\"dsq-postid\" data-dsqidentifier=\"97909 https://daphnecaruanagalizia.com/?p=97909\">Read (31)</span></a> | <span class=\"time\">Thursday, 12 October 8:45 pm</span></p>\n",
       " </div>\n",
       " </div>, <div class=\"postmaster\" data-postid=\"97906\">\n",
       " <p class=\"column-caption\"></p>\n",
       " <div class=\"post\">\n",
       " <h1><a href=\"https://daphnecaruanagalizia.com/2017/10/no-not-real-tweet-good/\" rel=\"bookmark\" title=\"Permanent Link to No, this is not a real tweet – but it’s as good as\">\n",
       " No, this is not a real tweet – but it’s as good as </a>\n",
       " </h1>\n",
       " <div class=\"entry\">\n",
       " <p>\n",
       " …</p>\n",
       " </div>\n",
       " <p class=\"postmetadata\"><a href=\"https://daphnecaruanagalizia.com/2017/10/no-not-real-tweet-good/#respond\">Post a comment</a> | <a href=\"https://daphnecaruanagalizia.com/2017/10/no-not-real-tweet-good/#comments\"><span class=\"dsq-postid\" data-dsqidentifier=\"97906 https://daphnecaruanagalizia.com/?p=97906\">Read (4)</span></a> | <span class=\"time\">Thursday, 12 October 7:21 pm</span></p>\n",
       " </div>\n",
       " </div>, <div class=\"postmaster\" data-postid=\"97897\">\n",
       " <p class=\"column-caption\"></p>\n",
       " <div class=\"post\">\n",
       " <h1><a href=\"https://daphnecaruanagalizia.com/2017/10/listening-people-opposition-leaders-wife-spends-much-10-weeks-state-pension-outfit-swearing-ceremony/\" rel=\"bookmark\" title=\"Permanent Link to ‘Listening to the people’: Opposition leader’s wife spends as much as 10 weeks state pension on outfit for swearing-in ceremony\">\n",
       " ‘Listening to the people’: Opposition leader’s wife spends as much as 10 weeks state pension on o... </a>\n",
       " </h1>\n",
       " <div class=\"entry\">\n",
       " <p>\n",
       " The outfit which Mrs Adrian Delia wore to watch her husband sworn in as Opposition …</p>\n",
       " </div>\n",
       " <p class=\"postmetadata\"><a href=\"https://daphnecaruanagalizia.com/2017/10/listening-people-opposition-leaders-wife-spends-much-10-weeks-state-pension-outfit-swearing-ceremony/#respond\">Post a comment</a> | <a href=\"https://daphnecaruanagalizia.com/2017/10/listening-people-opposition-leaders-wife-spends-much-10-weeks-state-pension-outfit-swearing-ceremony/#comments\"><span class=\"dsq-postid\" data-dsqidentifier=\"97897 https://daphnecaruanagalizia.com/?p=97897\">Read (18)</span></a> | <span class=\"time\">Thursday, 12 October 6:53 pm</span></p>\n",
       " </div>\n",
       " </div>]"
      ]
     },
     "execution_count": 16,
     "metadata": {},
     "output_type": "execute_result"
    }
   ],
   "source": [
    "posts"
   ]
  },
  {
   "cell_type": "code",
   "execution_count": 17,
   "metadata": {},
   "outputs": [
    {
     "data": {
      "text/plain": [
       "<div class=\"postmaster\" data-postid=\"97964\">\n",
       "<p class=\"column-caption\"></p>\n",
       "<div class=\"post\">\n",
       "<h1><a href=\"https://daphnecaruanagalizia.com/2017/10/first-things-first-something-horrendous-posture/\" rel=\"bookmark\" title=\"Permanent Link to First things first: do something about that horrendous posture\">\n",
       "First things first: do something about that horrendous posture </a>\n",
       "</h1>\n",
       "<div class=\"entry\">\n",
       "<p>\n",
       "You can wear the flashiest watch and keep your snazzy shirt-cuff turned up to make …</p>\n",
       "</div>\n",
       "<p class=\"postmetadata\"><a href=\"https://daphnecaruanagalizia.com/2017/10/first-things-first-something-horrendous-posture/#respond\">Post a comment</a> | <a href=\"https://daphnecaruanagalizia.com/2017/10/first-things-first-something-horrendous-posture/#comments\"><span class=\"dsq-postid\" data-dsqidentifier=\"97964 https://daphnecaruanagalizia.com/?p=97964\">Read (4)</span></a> | <span class=\"time\">Monday, 16 October 2:09 pm</span></p>\n",
       "</div>\n",
       "</div>"
      ]
     },
     "execution_count": 17,
     "metadata": {},
     "output_type": "execute_result"
    }
   ],
   "source": [
    "#Lets just look at in the list, to see which information we need.\n",
    "posts[0]"
   ]
  },
  {
   "cell_type": "code",
   "execution_count": 21,
   "metadata": {},
   "outputs": [
    {
     "data": {
      "text/plain": [
       "<a href=\"https://daphnecaruanagalizia.com/2017/10/first-things-first-something-horrendous-posture/\" rel=\"bookmark\" title=\"Permanent Link to First things first: do something about that horrendous posture\">\n",
       "First things first: do something about that horrendous posture </a>"
      ]
     },
     "execution_count": 21,
     "metadata": {},
     "output_type": "execute_result"
    }
   ],
   "source": [
    "posts[0].find('a')"
   ]
  },
  {
   "cell_type": "code",
   "execution_count": 22,
   "metadata": {},
   "outputs": [
    {
     "data": {
      "text/plain": [
       "'https://daphnecaruanagalizia.com/2017/10/first-things-first-something-horrendous-posture/'"
      ]
     },
     "execution_count": 22,
     "metadata": {},
     "output_type": "execute_result"
    }
   ],
   "source": [
    "posts[0].find('a')['href']"
   ]
  },
  {
   "cell_type": "code",
   "execution_count": 26,
   "metadata": {},
   "outputs": [
    {
     "data": {
      "text/plain": [
       "<span class=\"time\">Monday, 16 October 2:09 pm</span>"
      ]
     },
     "execution_count": 26,
     "metadata": {},
     "output_type": "execute_result"
    }
   ],
   "source": [
    "posts[0].find('span', {'class':'time'})"
   ]
  },
  {
   "cell_type": "code",
   "execution_count": 27,
   "metadata": {},
   "outputs": [
    {
     "data": {
      "text/plain": [
       "'Monday, 16 October 2:09 pm'"
      ]
     },
     "execution_count": 27,
     "metadata": {},
     "output_type": "execute_result"
    }
   ],
   "source": [
    "posts[0].find('span', {'class':'time'}).text"
   ]
  },
  {
   "cell_type": "markdown",
   "metadata": {},
   "source": [
    "# Looping"
   ]
  },
  {
   "cell_type": "code",
   "execution_count": null,
   "metadata": {
    "collapsed": true
   },
   "outputs": [],
   "source": [
    "#Now lets look at the whole lists and using a for loop extract only the "
   ]
  }
 ],
 "metadata": {
  "kernelspec": {
   "display_name": "Python 3",
   "language": "python",
   "name": "python3"
  },
  "language_info": {
   "codemirror_mode": {
    "name": "ipython",
    "version": 3
   },
   "file_extension": ".py",
   "mimetype": "text/x-python",
   "name": "python",
   "nbconvert_exporter": "python",
   "pygments_lexer": "ipython3",
   "version": "3.5.1"
  }
 },
 "nbformat": 4,
 "nbformat_minor": 2
}
