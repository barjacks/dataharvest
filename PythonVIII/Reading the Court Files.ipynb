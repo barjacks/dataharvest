{
 "cells": [
  {
   "cell_type": "markdown",
   "metadata": {},
   "source": [
    "# Introduction\n",
    "In this workshop we'll read hundreds of court rulings from the Swiss Supreme Court regarding migrants. The Swiss [Bundesverwaltungsgericht](http://www.bvger.ch), which is based in St. Gallen, is obliged to published every single decision in the Internet. Since 2007 thats over 45'000 decisions. Well be working with 700 of them, regarding the timeframe from Sep. 2016 to Jan. 2017. \n",
    "\n",
    "[Regex Tester](https://regex101.com/)"
   ]
  },
  {
   "cell_type": "markdown",
   "metadata": {},
   "source": [
    "# Imports"
   ]
  },
  {
   "cell_type": "code",
   "execution_count": 67,
   "metadata": {
    "collapsed": true
   },
   "outputs": [],
   "source": [
    "import pandas as pd\n",
    "# We'll use this to store the data we generate\n",
    "import re\n",
    "# We'll us regular expression to find the information we need\n",
    "import os\n",
    "# And the Os will help us locate the hundreds of files"
   ]
  },
  {
   "cell_type": "markdown",
   "metadata": {},
   "source": [
    "# What are we after?\n",
    "1. Date\n",
    "1. Nationality\n",
    "1. Decision"
   ]
  },
  {
   "cell_type": "markdown",
   "metadata": {},
   "source": [
    "Before we start, lets take a look at the files though."
   ]
  },
  {
   "cell_type": "markdown",
   "metadata": {},
   "source": [
    "# A list of all the relevant files"
   ]
  },
  {
   "cell_type": "code",
   "execution_count": 68,
   "metadata": {
    "scrolled": true
   },
   "outputs": [
    {
     "data": {
      "text/plain": [
       "['289.txt',\n",
       " '504.txt',\n",
       " '262.txt',\n",
       " '276.txt',\n",
       " '510.txt',\n",
       " '538.txt',\n",
       " '706.txt',\n",
       " '712.txt',\n",
       " '29.txt',\n",
       " '869.txt',\n",
       " '15.txt',\n",
       " '855.txt',\n",
       " '699.txt',\n",
       " '841.txt',\n",
       " '114.txt',\n",
       " '100.txt',\n",
       " '896.txt',\n",
       " '882.txt',\n",
       " '470.txt',\n",
       " '316.txt',\n",
       " '302.txt',\n",
       " '464.txt',\n",
       " '458.txt',\n",
       " '459.txt',\n",
       " '303.txt',\n",
       " '465.txt',\n",
       " '471.txt',\n",
       " '317.txt',\n",
       " '883.txt',\n",
       " '897.txt',\n",
       " '101.txt',\n",
       " '115.txt',\n",
       " '840.txt',\n",
       " '698.txt',\n",
       " '854.txt',\n",
       " '14.txt',\n",
       " '868.txt',\n",
       " '28.txt',\n",
       " '713.txt',\n",
       " '707.txt',\n",
       " '539.txt',\n",
       " '277.txt',\n",
       " '511.txt',\n",
       " '505.txt',\n",
       " '263.txt',\n",
       " '288.txt',\n",
       " '513.txt',\n",
       " '275.txt',\n",
       " '261.txt',\n",
       " '507.txt',\n",
       " '249.txt',\n",
       " '711.txt',\n",
       " '705.txt',\n",
       " '739.txt',\n",
       " '842.txt',\n",
       " '16.txt',\n",
       " '856.txt',\n",
       " '103.txt',\n",
       " '117.txt',\n",
       " '881.txt',\n",
       " '895.txt',\n",
       " '498.txt',\n",
       " '467.txt',\n",
       " '301.txt',\n",
       " '315.txt',\n",
       " '473.txt',\n",
       " '329.txt',\n",
       " '328.txt',\n",
       " '314.txt',\n",
       " '472.txt',\n",
       " '466.txt',\n",
       " '300.txt',\n",
       " '499.txt',\n",
       " '894.txt',\n",
       " '880.txt',\n",
       " '116.txt',\n",
       " '102.txt',\n",
       " '857.txt',\n",
       " '17.txt',\n",
       " '843.txt',\n",
       " '738.txt',\n",
       " '704.txt',\n",
       " '710.txt',\n",
       " '248.txt',\n",
       " '260.txt',\n",
       " '506.txt',\n",
       " '512.txt',\n",
       " '274.txt',\n",
       " '258.txt',\n",
       " '270.txt',\n",
       " '516.txt',\n",
       " '502.txt',\n",
       " '264.txt',\n",
       " '714.txt',\n",
       " '700.txt',\n",
       " '847.txt',\n",
       " '13.txt',\n",
       " '853.txt',\n",
       " '884.txt',\n",
       " '890.txt',\n",
       " '106.txt',\n",
       " '112.txt',\n",
       " '489.txt',\n",
       " '338.txt',\n",
       " '304.txt',\n",
       " '462.txt',\n",
       " '476.txt',\n",
       " '310.txt',\n",
       " '477.txt',\n",
       " '311.txt',\n",
       " '305.txt',\n",
       " '463.txt',\n",
       " '339.txt',\n",
       " '488.txt',\n",
       " '113.txt',\n",
       " '107.txt',\n",
       " '891.txt',\n",
       " '885.txt',\n",
       " '852.txt',\n",
       " '12.txt',\n",
       " '846.txt',\n",
       " '701.txt',\n",
       " '729.txt',\n",
       " '503.txt',\n",
       " '265.txt',\n",
       " '271.txt',\n",
       " '517.txt',\n",
       " '259.txt',\n",
       " '298.txt',\n",
       " '529.txt',\n",
       " '267.txt',\n",
       " '501.txt',\n",
       " '515.txt',\n",
       " '273.txt',\n",
       " '703.txt',\n",
       " '688.txt',\n",
       " '850.txt',\n",
       " '844.txt',\n",
       " '38.txt',\n",
       " '878.txt',\n",
       " '893.txt',\n",
       " '887.txt',\n",
       " '111.txt',\n",
       " '105.txt',\n",
       " '449.txt',\n",
       " '313.txt',\n",
       " '475.txt',\n",
       " '461.txt',\n",
       " '307.txt',\n",
       " '460.txt',\n",
       " '306.txt',\n",
       " '312.txt',\n",
       " '474.txt',\n",
       " '448.txt',\n",
       " '104.txt',\n",
       " '110.txt',\n",
       " '886.txt',\n",
       " '892.txt',\n",
       " '879.txt',\n",
       " '39.txt',\n",
       " '845.txt',\n",
       " '851.txt',\n",
       " '689.txt',\n",
       " '702.txt',\n",
       " '514.txt',\n",
       " '272.txt',\n",
       " '266.txt',\n",
       " '500.txt',\n",
       " '528.txt',\n",
       " '299.txt',\n",
       " '201.txt',\n",
       " '567.txt',\n",
       " '573.txt',\n",
       " '215.txt',\n",
       " '229.txt',\n",
       " '765.txt',\n",
       " '771.txt',\n",
       " '759.txt',\n",
       " '76.txt',\n",
       " '836.txt',\n",
       " '62.txt',\n",
       " '822.txt',\n",
       " '89.txt',\n",
       " '177.txt',\n",
       " '375.txt',\n",
       " '413.txt',\n",
       " '407.txt',\n",
       " '361.txt',\n",
       " '349.txt',\n",
       " '348.txt',\n",
       " '406.txt',\n",
       " '360.txt',\n",
       " '374.txt',\n",
       " '412.txt',\n",
       " '88.txt',\n",
       " '176.txt',\n",
       " '823.txt',\n",
       " '63.txt',\n",
       " '837.txt',\n",
       " '77.txt',\n",
       " '758.txt',\n",
       " '770.txt',\n",
       " '764.txt',\n",
       " '228.txt',\n",
       " '572.txt',\n",
       " '214.txt',\n",
       " '200.txt',\n",
       " '566.txt',\n",
       " '216.txt',\n",
       " '570.txt',\n",
       " '564.txt',\n",
       " '202.txt',\n",
       " '558.txt',\n",
       " '799.txt',\n",
       " '772.txt',\n",
       " '766.txt',\n",
       " '49.txt',\n",
       " '809.txt',\n",
       " '61.txt',\n",
       " '821.txt',\n",
       " '75.txt',\n",
       " '835.txt',\n",
       " '174.txt',\n",
       " '389.txt',\n",
       " '362.txt',\n",
       " '404.txt',\n",
       " '410.txt',\n",
       " '376.txt',\n",
       " '438.txt',\n",
       " '439.txt',\n",
       " '411.txt',\n",
       " '377.txt',\n",
       " '363.txt',\n",
       " '405.txt',\n",
       " '388.txt',\n",
       " '175.txt',\n",
       " '834.txt',\n",
       " '74.txt',\n",
       " '820.txt',\n",
       " '60.txt',\n",
       " '808.txt',\n",
       " '48.txt',\n",
       " '767.txt',\n",
       " '773.txt',\n",
       " '798.txt',\n",
       " '559.txt',\n",
       " '565.txt',\n",
       " '203.txt',\n",
       " '217.txt',\n",
       " '571.txt',\n",
       " '549.txt',\n",
       " '575.txt',\n",
       " '213.txt',\n",
       " '207.txt',\n",
       " '561.txt',\n",
       " '788.txt',\n",
       " '777.txt',\n",
       " '763.txt',\n",
       " '64.txt',\n",
       " '824.txt',\n",
       " '70.txt',\n",
       " '830.txt',\n",
       " '58.txt',\n",
       " '818.txt',\n",
       " '398.txt',\n",
       " '429.txt',\n",
       " '401.txt',\n",
       " '367.txt',\n",
       " '373.txt',\n",
       " '415.txt',\n",
       " '372.txt',\n",
       " '414.txt',\n",
       " '400.txt',\n",
       " '366.txt',\n",
       " '428.txt',\n",
       " '399.txt',\n",
       " '819.txt',\n",
       " '59.txt',\n",
       " '831.txt',\n",
       " '71.txt',\n",
       " '825.txt',\n",
       " '65.txt',\n",
       " '762.txt',\n",
       " '776.txt',\n",
       " '789.txt',\n",
       " '206.txt',\n",
       " '560.txt',\n",
       " '574.txt',\n",
       " '212.txt',\n",
       " '548.txt',\n",
       " '238.txt',\n",
       " '562.txt',\n",
       " '204.txt',\n",
       " '210.txt',\n",
       " '576.txt',\n",
       " '748.txt',\n",
       " '760.txt',\n",
       " '774.txt',\n",
       " '73.txt',\n",
       " '833.txt',\n",
       " '67.txt',\n",
       " '827.txt',\n",
       " '98.txt',\n",
       " '358.txt',\n",
       " '416.txt',\n",
       " '370.txt',\n",
       " '364.txt',\n",
       " '402.txt',\n",
       " '365.txt',\n",
       " '403.txt',\n",
       " '417.txt',\n",
       " '371.txt',\n",
       " '359.txt',\n",
       " '99.txt',\n",
       " '173.txt',\n",
       " '826.txt',\n",
       " '66.txt',\n",
       " '832.txt',\n",
       " '72.txt',\n",
       " '775.txt',\n",
       " '761.txt',\n",
       " '749.txt',\n",
       " '211.txt',\n",
       " '577.txt',\n",
       " '563.txt',\n",
       " '205.txt',\n",
       " '239.txt',\n",
       " '220.txt',\n",
       " '546.txt',\n",
       " '552.txt',\n",
       " '234.txt',\n",
       " '208.txt',\n",
       " '787.txt',\n",
       " '793.txt',\n",
       " '744.txt',\n",
       " '750.txt',\n",
       " '778.txt',\n",
       " '57.txt',\n",
       " '817.txt',\n",
       " '43.txt',\n",
       " '803.txt',\n",
       " '94.txt',\n",
       " '80.txt',\n",
       " '397.txt',\n",
       " '383.txt',\n",
       " '354.txt',\n",
       " '432.txt',\n",
       " '426.txt',\n",
       " '340.txt',\n",
       " '368.txt',\n",
       " '369.txt',\n",
       " '427.txt',\n",
       " '341.txt',\n",
       " '355.txt',\n",
       " '433.txt',\n",
       " '382.txt',\n",
       " '396.txt',\n",
       " '81.txt',\n",
       " '95.txt',\n",
       " '802.txt',\n",
       " '42.txt',\n",
       " '816.txt',\n",
       " '56.txt',\n",
       " '779.txt',\n",
       " '751.txt',\n",
       " '745.txt',\n",
       " '792.txt',\n",
       " '786.txt',\n",
       " '209.txt',\n",
       " '553.txt',\n",
       " '235.txt',\n",
       " '221.txt',\n",
       " '547.txt',\n",
       " '237.txt',\n",
       " '551.txt',\n",
       " '545.txt',\n",
       " '223.txt',\n",
       " '790.txt',\n",
       " '784.txt',\n",
       " '753.txt',\n",
       " '747.txt',\n",
       " '68.txt',\n",
       " '828.txt',\n",
       " '40.txt',\n",
       " '800.txt',\n",
       " '6.txt',\n",
       " '54.txt',\n",
       " '814.txt',\n",
       " '83.txt',\n",
       " '97.txt',\n",
       " '380.txt',\n",
       " '394.txt',\n",
       " '343.txt',\n",
       " '425.txt',\n",
       " '431.txt',\n",
       " '357.txt',\n",
       " '419.txt',\n",
       " '418.txt',\n",
       " '430.txt',\n",
       " '356.txt',\n",
       " '342.txt',\n",
       " '424.txt',\n",
       " '395.txt',\n",
       " '381.txt',\n",
       " '96.txt',\n",
       " '82.txt',\n",
       " '815.txt',\n",
       " '55.txt',\n",
       " '801.txt',\n",
       " '41.txt',\n",
       " '829.txt',\n",
       " '69.txt',\n",
       " '746.txt',\n",
       " '752.txt',\n",
       " '785.txt',\n",
       " '544.txt',\n",
       " '222.txt',\n",
       " '236.txt',\n",
       " '550.txt',\n",
       " '568.txt',\n",
       " '554.txt',\n",
       " '232.txt',\n",
       " '226.txt',\n",
       " '540.txt',\n",
       " '795.txt',\n",
       " '781.txt',\n",
       " '756.txt',\n",
       " '742.txt',\n",
       " '45.txt',\n",
       " '805.txt',\n",
       " '51.txt',\n",
       " '811.txt',\n",
       " '79.txt',\n",
       " '839.txt',\n",
       " '178.txt',\n",
       " '86.txt',\n",
       " '92.txt',\n",
       " '385.txt',\n",
       " '391.txt',\n",
       " '408.txt',\n",
       " '420.txt',\n",
       " '346.txt',\n",
       " '352.txt',\n",
       " '434.txt',\n",
       " '353.txt',\n",
       " '435.txt',\n",
       " '421.txt',\n",
       " '347.txt',\n",
       " '409.txt',\n",
       " '390.txt',\n",
       " '384.txt',\n",
       " '93.txt',\n",
       " '87.txt',\n",
       " '838.txt',\n",
       " '78.txt',\n",
       " '810.txt',\n",
       " '50.txt',\n",
       " '2.txt',\n",
       " '804.txt',\n",
       " '44.txt',\n",
       " '743.txt',\n",
       " '757.txt',\n",
       " '780.txt',\n",
       " '794.txt',\n",
       " '227.txt',\n",
       " '541.txt',\n",
       " '555.txt',\n",
       " '233.txt',\n",
       " '569.txt',\n",
       " '219.txt',\n",
       " '543.txt',\n",
       " '225.txt',\n",
       " '231.txt',\n",
       " '557.txt',\n",
       " '782.txt',\n",
       " '796.txt',\n",
       " '769.txt',\n",
       " '741.txt',\n",
       " '755.txt',\n",
       " '52.txt',\n",
       " '812.txt',\n",
       " '46.txt',\n",
       " '806.txt',\n",
       " '91.txt',\n",
       " '85.txt',\n",
       " '392.txt',\n",
       " '386.txt',\n",
       " '379.txt',\n",
       " '437.txt',\n",
       " '351.txt',\n",
       " '345.txt',\n",
       " '423.txt',\n",
       " '344.txt',\n",
       " '422.txt',\n",
       " '436.txt',\n",
       " '350.txt',\n",
       " '378.txt',\n",
       " '387.txt',\n",
       " '393.txt',\n",
       " '84.txt',\n",
       " '90.txt',\n",
       " '807.txt',\n",
       " '47.txt',\n",
       " '813.txt',\n",
       " '53.txt',\n",
       " '754.txt',\n",
       " '740.txt',\n",
       " '768.txt',\n",
       " '797.txt',\n",
       " '783.txt',\n",
       " '230.txt',\n",
       " '556.txt',\n",
       " '542.txt',\n",
       " '224.txt',\n",
       " '218.txt',\n",
       " '280.txt',\n",
       " '294.txt',\n",
       " '243.txt',\n",
       " '257.txt',\n",
       " '531.txt',\n",
       " '900.txt',\n",
       " '733.txt',\n",
       " '690.txt',\n",
       " '848.txt',\n",
       " '684.txt',\n",
       " '34.txt',\n",
       " '874.txt',\n",
       " '20.txt',\n",
       " '860.txt',\n",
       " '121.txt',\n",
       " '109.txt',\n",
       " '492.txt',\n",
       " '486.txt',\n",
       " '451.txt',\n",
       " '337.txt',\n",
       " '323.txt',\n",
       " '445.txt',\n",
       " '479.txt',\n",
       " '478.txt',\n",
       " '322.txt',\n",
       " '444.txt',\n",
       " '450.txt',\n",
       " '336.txt',\n",
       " '487.txt',\n",
       " '493.txt',\n",
       " '108.txt',\n",
       " '120.txt',\n",
       " '861.txt',\n",
       " '21.txt',\n",
       " '875.txt',\n",
       " '35.txt',\n",
       " '685.txt',\n",
       " '849.txt',\n",
       " '691.txt',\n",
       " '732.txt',\n",
       " '901.txt',\n",
       " '518.txt',\n",
       " '256.txt',\n",
       " '530.txt',\n",
       " '242.txt',\n",
       " '295.txt',\n",
       " '281.txt',\n",
       " '297.txt',\n",
       " '283.txt',\n",
       " '532.txt',\n",
       " '254.txt',\n",
       " '240.txt',\n",
       " '268.txt',\n",
       " '903.txt',\n",
       " '687.txt',\n",
       " '693.txt',\n",
       " '23.txt',\n",
       " '863.txt',\n",
       " '37.txt',\n",
       " '877.txt',\n",
       " '888.txt',\n",
       " '485.txt',\n",
       " '491.txt',\n",
       " '446.txt',\n",
       " '320.txt',\n",
       " '334.txt',\n",
       " '452.txt',\n",
       " '308.txt',\n",
       " '309.txt',\n",
       " '335.txt',\n",
       " '453.txt',\n",
       " '447.txt',\n",
       " '321.txt',\n",
       " '490.txt',\n",
       " '484.txt',\n",
       " '889.txt',\n",
       " '876.txt',\n",
       " '36.txt',\n",
       " '862.txt',\n",
       " '22.txt',\n",
       " '692.txt',\n",
       " '686.txt',\n",
       " '731.txt',\n",
       " '902.txt',\n",
       " '269.txt',\n",
       " '241.txt',\n",
       " '527.txt',\n",
       " '533.txt',\n",
       " '255.txt',\n",
       " '282.txt',\n",
       " '296.txt',\n",
       " '292.txt',\n",
       " '286.txt',\n",
       " '279.txt',\n",
       " '251.txt',\n",
       " '537.txt',\n",
       " '245.txt',\n",
       " '709.txt',\n",
       " '735.txt',\n",
       " '26.txt',\n",
       " '866.txt',\n",
       " '32.txt',\n",
       " '872.txt',\n",
       " '682.txt',\n",
       " '696.txt',\n",
       " '2192.txt',\n",
       " '899.txt',\n",
       " '480.txt',\n",
       " '494.txt',\n",
       " '319.txt',\n",
       " '325.txt',\n",
       " '443.txt',\n",
       " '457.txt',\n",
       " '331.txt',\n",
       " '456.txt',\n",
       " '330.txt',\n",
       " '324.txt',\n",
       " '442.txt',\n",
       " '318.txt',\n",
       " '495.txt',\n",
       " '481.txt',\n",
       " '898.txt',\n",
       " '697.txt',\n",
       " '683.txt',\n",
       " '873.txt',\n",
       " '33.txt',\n",
       " '867.txt',\n",
       " '27.txt',\n",
       " '734.txt',\n",
       " '708.txt',\n",
       " '244.txt',\n",
       " '250.txt',\n",
       " '536.txt',\n",
       " '278.txt',\n",
       " '287.txt',\n",
       " '293.txt',\n",
       " '285.txt',\n",
       " '291.txt',\n",
       " '508.txt',\n",
       " '246.txt',\n",
       " '534.txt',\n",
       " '252.txt',\n",
       " '905.txt',\n",
       " '736.txt',\n",
       " '31.txt',\n",
       " '871.txt',\n",
       " '25.txt',\n",
       " '865.txt',\n",
       " '695.txt',\n",
       " '19.txt',\n",
       " '859.txt',\n",
       " '2191.txt',\n",
       " '118.txt',\n",
       " '497.txt',\n",
       " '483.txt',\n",
       " '468.txt',\n",
       " '332.txt',\n",
       " '454.txt',\n",
       " '440.txt',\n",
       " '326.txt',\n",
       " '441.txt',\n",
       " '327.txt',\n",
       " '333.txt',\n",
       " '455.txt',\n",
       " '469.txt',\n",
       " '482.txt',\n",
       " '496.txt',\n",
       " '119.txt',\n",
       " '858.txt',\n",
       " '18.txt',\n",
       " '694.txt',\n",
       " '864.txt',\n",
       " '24.txt',\n",
       " '870.txt',\n",
       " '30.txt',\n",
       " '737.txt',\n",
       " '904.txt',\n",
       " '535.txt',\n",
       " '253.txt',\n",
       " '247.txt',\n",
       " '509.txt',\n",
       " '290.txt',\n",
       " '284.txt']"
      ]
     },
     "execution_count": 68,
     "metadata": {},
     "output_type": "execute_result"
    }
   ],
   "source": [
    "os.listdir('files')"
   ]
  },
  {
   "cell_type": "code",
   "execution_count": 69,
   "metadata": {
    "collapsed": true
   },
   "outputs": [],
   "source": [
    "lst = os.listdir('files')"
   ]
  },
  {
   "cell_type": "markdown",
   "metadata": {},
   "source": [
    "# Reading the files"
   ]
  },
  {
   "cell_type": "code",
   "execution_count": 70,
   "metadata": {},
   "outputs": [
    {
     "data": {
      "text/plain": [
       "\"  Bundesverwaltungsgericht\\nTribunal administratif fédéral\\nTribunale amministrativo federale\\nTribunal administrativ federal\\n                Cour V\\nE-6691/2016\\n          Arrêt du 7 novembre 2016\\nComposition\\n  François Badoud, juge unique,\\navec l'approbation de Blaise Vuille, juge ;\\nBeata Jastrzebska, greffière.\\n      Parties\\n  A._______, née le (...),\\nErythrée, \\nreprésentée par Catalina Mendoza, Caritas Genève,\\n(...),\\nrecourante,\\n      contre\\n    Secrétariat d'Etat aux migrations (SEM),\\nQuellenweg 6, 3003 Berne,\\nautorité inférieure.\\n      Objet\\n  Asile (non-entrée en matière / procédure Dublin) et renvoi ; décision du SEM du 19 octobre 2016 / N (...).\\n     \\nVu\\nla demande d'asile déposée en Suisse par A._______, le 28 juillet 2015,\\nla décision du 9 octobre 2015, par laquelle le SEM, se fondant sur l'art. 31a al. 1 let. b LAsi (RS 142.31), n'est pas entré en matière sur cette demande et a prononcé le transfert de l'intéressée vers l'Italie,\\nl'arrêt du 22 octobre 2015, par lequel le Tribunal administratif fédéral (ci-après : le Tribunal) a rejeté le recours interjeté par l'intéressée contre la décision précité,\\nle transfert de la recourante vers l'Italie, le 24 août 2016,\\nla nouvelle demande d'asile, déposée par l'intéressée en Suisse, le 15 septembre 2016,\\nla décision du 19 octobre 2016 (notifiée, le 24 octobre 2016), par laquelle le SEM, se fondant sur l'art. 31a al. 1 let. b LAsi (RS 142.31), n'est pas entré en matière sur cette demande et a de nouveau prononcé le transfert de l'intéressée en Italie,\\nle recours interjeté, le 31 octobre 2016, contre cette décision,\\nles demandes d'octroi de l'effet suspensif et de dispense du paiement d'une avance des frais de procédure dont il est assorti,\\nla réception du dossier de première instance par le Tribunal, le 2 novembre 2016,\\net considérant\\nque le Tribunal, en vertu de l'art. 31 LTAF, connaît des recours contre les décisions au sens de l'art. 5 PA prises par les autorités mentionnées à l'art. 33 LTAF,\\nqu'en particulier, les décisions rendues par le SEM concernant l'asile peuvent être contestées devant le Tribunal, lequel statue alors définitivement, sauf demande d'extradition déposée par l'Etat dont le requérant cherche à se protéger (art. 33 let. d LTAF, applicable par renvoi de l'art. 105 LAsi, et art. 83 let. d ch. 1 LTF), exception non réalisée en l'espèce,\\nque l'intéressée a qualité pour recourir (art. 48 al. 1 PA, applicable par renvoi de l'art. 37 LTAF),\\nque le recours, interjeté dans la forme (art. 52 al. 1 PA) et le délai (art. 108 al. 2 LAsi) prescrits par la loi, est recevable,\\nque, saisi d'un recours contre une décision de non-entrée en matière sur une demande d'asile, le Tribunal se limite à examiner le bien-fondé d'une telle décision (cf. ATAF 2012/4 consid. 2.2; 2009/54 consid. 1.3.3; 2007/8 consid. 5),\\nque, dans le cas d'espèce, il y a lieu de déterminer si le SEM était fondé à faire application de l'art. 31a al. 1 let. b LAsi, disposition en vertu de laquelle il n'entre pas en matière sur une demande d'asile lorsque le requérant peut se rendre dans un Etat tiers compétent, en vertu d'un accord international, pour mener la procédure d'asile et de renvoi,\\nqu'avant de faire application de la disposition précitée, le SEM examine la compétence relative au traitement d'une demande d'asile selon les critères fixés dans le règlement (UE) no 604/2013 du Parlement européen et du Conseil du 26 juin 2013 établissant les critères et mécanismes de détermination de l'Etat membre responsable de l'examen d'une demande de protection internationale introduite dans l'un des Etats membres par un ressortissant de pays tiers ou un apatride (refonte) (JO L 180/31 du 29.6.2013, ci-après: règlement Dublin III),\\nque, s'il ressort de cet examen qu'un autre Etat est responsable du traitement de la demande d'asile, le SEM rend une décision de non-entrée en matière après que l'Etat requis a accepté la prise ou la reprise en charge du requérant d'asile,\\nqu'aux termes de l'art. 3 par. 1 du règlement Dublin III, une demande de protection internationale est examinée par un seul Etat membre, celui-ci étant déterminé selon les critères fixés à son chapitre III,\\nque la procédure de détermination de l'Etat responsable est engagée, aussitôt qu'une demande d'asile a été déposée pour la première fois dans un Etat membre (art. 20 par. 1 du règlement Dublin III),\\nque dans une procédure de prise en charge, les critères énumérés au chapitre III du règlement (art. 8-15) doivent être appliqués successivement (principe de l'application hiérarchique des critères de compétence, art. 7 par. 1 du règlement Dublin III),\\nque pour ce faire, il y a lieu de se baser sur la situation existant au moment du dépôt de la première demande dans un Etat membre (art. 7 par 2 du règlement Dublin III ; ATAF 2012/4 consid. 3.2 ; Filzwieser/Sprung, Dublin III-Verordnung, Vienne 2014, pt. 4 sur l'art. 7),\\nqu'en revanche, dans une procédure de reprise en charge, il n'y a en principe aucun nouvel examen de la compétence selon le chapitre III (ATAF 2012/4 consid. 3.2.1 et réf. cit.),\\nque, lorsqu'aucun Etat membre responsable ne peut être désigné sur la base de ces critères, le premier Etat membre auprès duquel la demande de protection internationale a été introduite est responsable de l'examen (art. 3 par. 2 1ère phrase du règlement Dublin III),\\nqu'en vertu de l'art. 3 par. 2 du règlement Dublin III, lorsqu'il est impossible de transférer un demandeur vers l'Etat membre initialement désigné comme responsable parce qu'il y a de sérieuses raisons de croire qu'il existe dans cet Etat membre des défaillances systémiques dans la procédure d'asile et les conditions d'accueil des demandeurs, qui entraînent un risque de traitement inhumain ou dégradant au sens de l'art. 4 de la Charte des droits fondamentaux de l'Union européenne (JO C 364/1 du 18.12.2000, ci-après: CharteUE), l'Etat procédant à la détermination de l'Etat responsable poursuit l'examen des critères fixés au chapitre III afin d'établir si un autre Etat peut être désigné comme responsable,\\nque lorsqu'il est impossible de transférer le demandeur vers un Etat désigné sur la base de ces critères ou vers le premier Etat auprès duquel la demande a été introduite, l'Etat membre procédant à la détermination devient l'Etat responsable,\\nque l'Etat responsable de l'examen d'une demande de protection internationale en vertu du règlement est tenu de reprendre en charge - dans les conditions prévues aux art. 23, 24, 25 et 29 - le demandeur dont la demande est en cours d'examen et qui a présenté une demande auprès d'un autre Etat membre ou qui se trouve, sans en avoir reçu la permission, sur le territoire d'un autre Etat membre (art. 18 par. 1 point b du règlement Dublin III),\\nque, sur la base de l'art. 17 par. 1 du règlement Dublin III (clause de souveraineté), chaque Etat membre peut décider d'examiner une demande de protection internationale qui lui est présentée par le ressortissant d'un pays tiers ou un apatride, même si cet examen ne lui incombe pas en vertu des critères fixés dans le règlement,\\nqu'en l'occurrence, les investigations entreprises par le SEM ont révélé, après consultation de l'unité centrale du système européen «Eurodac», que la recourante a déposé une demande d'asile en Italie, le 24 août 2016,\\nqu'en date du 4 octobre 2016, le SEM a dès lors soumis aux autorités italiennes compétentes, dans les délais fixés aux art. 23 par. 2 et art. 24 par. 2 du règlement Dublin III, une requête aux fins de reprise en charge, fondée sur l'art. 18 par. 1 let. b du règlement Dublin III,\\nque, le 17 octobre suivant, lesdites autorités ont expressément accepté de reprendre en charge la requérante, sur la base de cette même disposition,\\nque l'Italie a ainsi reconnu sa compétence pour traiter la demande d'asile de l'intéressée,\\nque ce point n'est pas contesté,\\nque l'intéressée s'oppose toutefois à son transfert en Italie et allègue, rapport de l'Organisation suisse d'aide aux réfugiés (OSAR) à l'appui, que le système italien d'accueil des requérants d'asile présente des défaillances systémiques,\\nqu'après le retour dans cet Etat, elle risquerait donc d'être confrontée à de grosses difficultés économiques et sociales en raison de l'incapacité de l'Italie à faire face à un grand afflux de requérants d'asile,\\nque l'intéressée craint en particulier d'être livrée à elle-même et laissée sans assistance,\\nqu'elle aurait d'ailleurs déjà vécu une telle expérience après son transfert en Italie, en août 2016,\\nqu'abandonnée alors à l'aéroport de B._______, elle n'aurait été informée ni sur le déroulement de la procédure d'asile ni sur un lieu d'hébergement potentiel,\\nqu'elle appréhende donc de se retrouver dans la même situation de détresse,\\nqu'à ses yeux, le retour en Italie l'exposerait donc à un risque constitutif d'une violation de l'art. 3 de la convention du 4 novembre 1950 de sauvegarde des droits de l'homme et des libertés fondamentales (CEDH, RS 0.101),\\nqu'en l'espèce, il n'y a toutefois pas lieu de considérer qu'il existe, en Italie, des défaillances systémiques dans la procédure d'asile et les conditions d'accueil des demandeurs, qui entraînent un risque de traitement inhumain ou dégradant au sens de l'art. 4 de la CharteUE (cf. art. 3 par. 2 2ème phrase du règlement Dublin III),\\nqu'en effet, ce pays est lié par cette Charte et signataire de la CEDH, de la Convention du 10 décembre 1984 contre la torture et autres peines ou traitements cruels, inhumains ou dégradants (Conv. torture, RS 0.105), de la Convention du 28 juillet 1951 relative au statut des réfugiés (Conv. réfugiés, RS 0.142.30) ainsi que du Protocole additionnel du 31 janvier 1967 (Prot., RS 0.142.301) et, à ce titre, en applique les dispositions,\\nque cet Etat est également lié par la directive n° 2013/32/UE du Parlement européen et du Conseil du 26 juin 2013 relative à des procédures communes pour l'octroi et le retrait de la protection internationale [refonte] (JO L 180/60 du 29.6.2013, ci-après : directive Procédure) et par la directive n° 2013/33/UE du Parlement européen et du Conseil du 26 juin 2013 établissant des normes pour l'accueil des personnes demandant la protection internationale [refonte] (JO L 180/96 du 29.6.2013, ci-après : directive Accueil),\\nqu'en outre, la recourante n'a pas démontré que les conditions d'existence en Italie revêtiraient un tel degré de pénibilité et de gravité qu'elles seraient constitutives d'un traitement contraire à l'art. 3 CEDH ou encore à l'art. 3 Conv. torture,\\nque, certes, il est notoire que les autorités italiennes connaissent, depuis 2011 notamment, de sérieux problèmes quant à leur capacité d'accueil des requérants d'asile, qui peuvent être confrontés à d'importantes difficultés sur le plan de l'hébergement, des conditions de vie, voire de l'accès aux soins médicaux suivant les circonstances (cf. notamment Organisation Suisse d'aide aux réfugiés [OSAR] : Conditions d'accueil en Italie. A propos de la situation actuelle des requérant-e-s d'asile et des bénéficiaires d'une protection, en particulier de celles et ceux de retour en Italie dans le cadre de Dublin, août 2016),\\nque cependant, contrairement à la Grèce, on ne saurait considérer qu'il appert de positions répétées et concordantes du Haut Commissariat des Nations Unies pour les réfugiés (HCR), du Commissaire des droits de l'homme du Conseil de l'Europe, ainsi que de nombreuses organisations internationales non gouvernementales, que les conditions matérielles d'accueil des demandeurs d'asile en Italie sont caractérisées par des carences structurelles d'une ampleur telle qu'il y aurait lieu de conclure d'emblée, et quelles que soient les circonstances du cas d'espèce, à l'existence de risques suffisamment réels et concrets, pour les requérants, d'être systématiquement exposés à une situation de précarité et de dénuement matériel et psychologique, au point que leur transfert dans ce pays constituerait en règle générale un traitement prohibé par l'art. 3 CEDH (cf. notamment arrêts de la CourEDH Tarakhel c. Suisse du 4 novembre 2014, requête n° 29217/12 § 114 et 115, et Mohammed Hussein c. Pays Bas et Italie du 2 avril 2013, requête n° 27725/10),\\nque la CourEDH l'a encore confirmé dans des affaires plus récentes (cf.  A.S. c. Suisse du 30 juin 2015, n° 39350/13, par. 36 ; A.M.E. c. Pays-Bas du 13 janvier 2015, n° 51428/10 ; décision sur la recevabilité N.A. et autres c. Dannemark du 28 juin 2016, n° 15636/16, par. 27),\\nqu'enfin, la recourante n'a pas apporté d'indices objectifs, concrets et sérieux qu'elle serait privée durablement de tout accès aux conditions matérielles minimales d'accueil au point qu'il faudrait renoncer à son transfert,\\nqu'en particulier, après son retour en Italie, le 24 août 2016, la recourante n'est restée dans ce pays qu'une vingtaine de jours avant de revenir en Suisse,\\nque dans ces circonstances, l'affirmation selon laquelle elle n'a pas été encadrée de manière adéquate pendant son séjour perd toute pertinence, le temps passé en Italie n'étant aucunement révélateur d'une absence durable d'assistance de la part des autorités italiennes,\\nque nonobstant, si, à son retour, l'intéressée devait être contrainte, par les circonstances, à mener une existence non conforme à la dignité humaine, ou si elle devait estimer que l'Italie viole ses obligations d'assistance à son encontre ou, de toute autre manière, porte atteinte à ses droits fondamentaux, il lui appartiendrait de faire valoir ses droits directement auprès des autorités de ce pays en usant des voies de droit adéquates,\\nqu'il en va de même du grief de l'intéressée relatif au déroulement prétendument incorrect de la procédure d'asile en Italie, lequel grief devrait, le cas échéant, être également invoqué directement devant les autorités italiennes compétentes,\\nque, dans ces conditions, le transfert de la recourante vers l'Italie n'est pas contraire aux obligations de la Suisse découlant des dispositions conventionnelles précitées,\\nque l'intéressée fait encore valoir qu'elle souffre de problèmes de santé qui s'opposent à son transfert,\\nqu'il ressort du rapport médical daté du (...) octobre 2016, qu'elle présente un état de stress post-traumatique et une dépression anxieuse,\\nqu'une rémission clinique est estimée comme « possible si le contexte de vie garantit des conditions de sécurité suffisantes »,\\nqu'en revanche, sans traitement, le pronostic est « très péjoratif avec risque d'aggravation de la symptomatologie (...) »,\\nque selon le rapport médical daté du (...) juillet 2016, la recourante souffre également de problèmes rénaux nécessitant un contrôle de la fonction de cet organe deux fois par an,\\nque s'agissant des personnes touchées dans leur santé, il y a lieu de rappeler que selon la jurisprudence de la CourEDH (cf. arrêt de la CourEDH N. contre Royaume\\xadUni du 27 mai 2008, 26565/05), leur retour forcé n'est susceptible de constituer une violation de l'art. 3 CEDH que si l'intéressé se trouve à un stade de sa maladie avancé et terminal, au point que sa mort apparaît comme une perspective proche (cf. aussi ATAF 2011/9 consid. 7.1),\\nque cette situation vise des cas très exceptionnels, en ce sens que la personne en question doit connaître un état de santé à ce point altéré que l'hypothèse de son rapide décès après le retour confine à la certitude,\\nqu'en l'espèce, les problèmes invoqués par l'intéressée, bien qu'ils nécessitent un encadrement médical, n'apparaissent pas grave au point de constituer un obstacle à son transfert,\\nque s'agissant d'abord de problèmes de nature psychique, la recourante pourra trouver un encadrement médical adéquat en Italie, ce pays disposant de structures des soins comparables à celles de la Suisse,\\nqu'il en va de même de l'affection rénale, laquelle doit être contrôlée deux fois par l'année,\\nqu'en effet, l'Italie, qui est liée par la directive Accueil, doit faire en sorte que les demandeurs d'asile reçoivent les soins médicaux nécessaires qui comportent, au minimum, les soins urgents et le traitement essentiel des maladies et des troubles mentaux graves, et fournir l'assistance médicale ou autre nécessaire aux demandeurs ayant des besoins particuliers en matière d'accueil, y compris, s'il y a lieu, des soins de santé mentale appropriés (cf. art. 19 par. 1 et 2 de ladite directive),\\nque rien dans le dossier ne permet de présager que l'Italie refuserait de dispenser à la recourante une telle aide,\\nqu'il incombera toutefois aux autorités suisses - comme elles s'y sont d'ailleurs d'ores et déjà engagées - de transmettre aux autorités italiennes les renseignements permettant une prise en charge médicale adéquate de l'intéressée (cf. art. 31 et 32 du règlement Dublin III),\\nque dans ce sens, ces autorités informeront à l'avance, de manière complète et appropriée, les autorités italiennes sur les spécificités médicales du cas de l'intéressée,\\nque cela dit, l'intéressée fait encore valoir qu'en tant que femme seule souffrant de problèmes de santé elle est particulièrement vulnérable et a besoin de protection et d'assistance,\\nque sur ce point, elle prend expressément appui sur l'arrêt Tarakhel c. Suisse (précité),\\nque toutefois, la recourante n'appartient pas à la catégorie des personnes particulièrement vulnérables visées par cet arrêt (par. 118-122), pour lesquelles l'Etat requérant doit, avant de prononcer un transfert vers l'Italie, obtenir des autorités italiennes des garanties individuelles d'une prise en charge conforme aux exigences de l'art. 3 CEDH,\\nqu'en effet, l'intéressée est une femme jeune, sans charge familiale, \\nque la recourante reproche enfin au SEM d'avoir omis d'appliquer, dans son cas, une des clauses discrétionnaires prévues à l'art. 17 du règlement Dublin III, à savoir celle retenue par le par. 1 de cette disposition (clause de souveraineté),\\nque cependant, ce point, qui ressortit à l'opportunité, ne peut plus être examiné au fond par le Tribunal, depuis l'abrogation de l'art. 106 al. 1 let. c LAsi, entrée en vigueur le 1er février 2014,\\nqu'en effet, en présence d'éléments de nature à permettre l'application des clauses discrétionnaires, le Tribunal se limite à contrôler si le SEM a fait usage de son pouvoir d'appréciation, et s'il l'a fait selon des critères objectifs et transparents, dans le respect des principes constitutionnels que sont le droit d'être entendu, l'égalité de traitement et la proportionnalité (cf. ATAF 2015/9 consid. 8),\\nqu'en l'espèce, le SEM a bel et bien fait usage de son pouvoir d'appréciation, conformément aux principes ci-dessus énoncés,\\nqu'il ressort, en effet, de la motivation de la décision attaquée que le SEM a envisagé l'application de l'art. 29a al. 3 OA1 en liaison avec l'art. 17 par. 1 du règlement Dublin III au cas de l'intéressée,\\nque dès lors, la décision attaquée n'est frappée d'aucune irrégularité sur ce point,\\nqu'au vu de ce qui précède, le recours doit être rejeté,\\nque, s'avérant manifestement infondé, il est rejeté dans une procédure à juge unique, avec l'approbation d'un second juge (art. 111 let. e LAsi),\\nqu'il est dès lors renoncé à un échange d'écritures, le présent arrêt n'étant motivé que sommairement (cf. art. 111a al. 1 et 2 LAsi),\\nque, dans la mesure où il a été immédiatement statué sur le fond, la requête tendant à l'octroi de l'effet suspensif au recours est sans objet,\\nqu'il en va de même de la requête tendant à la dispense du paiement d'avance des frais de procédure,\\nque, vu l'issue de la cause, il y a lieu de mettre les frais de procédure à la charge de la recourante, conformément aux art. 63 al. 1 PA et art. 2 et 3 let. b du règlement du 21 février 2008 concernant les frais, dépens et indemnités fixés par le Tribunal administratif fédéral (FITAF, RS 173.320.2),\\n(dispositif page suivante)\\n\\nle Tribunal administratif fédéral prononce :\\n1.\\nLe recours est rejeté.\\n2.\\nLes frais de procédure, d'un montant de 600 francs, sont mis à la charge de la recourante. Ce montant doit être versé sur le compte du Tribunal dans les 30 jours dès l'expédition du présent arrêt.\\n3.\\nLe présent arrêt est adressé à la recourante, au SEM et à l'autorité cantonale.\\n  Le juge unique :\\nLa greffière :\\n    François Badoud\\nBeata Jastrzebska\\n    Expédition :\""
      ]
     },
     "execution_count": 70,
     "metadata": {},
     "output_type": "execute_result"
    }
   ],
   "source": [
    "#Lets read one file first\n",
    "file = open('files/'+lst[0], 'r') #w, rb & wb #3 German #0 French\n",
    "file.read()"
   ]
  },
  {
   "cell_type": "code",
   "execution_count": 71,
   "metadata": {},
   "outputs": [],
   "source": [
    "#Lets only read the beginning and end\n",
    "file = open('files/'+lst[0], 'r')\n",
    "text = file.read()\n",
    "beginning = text[:1000]\n",
    "end = text[-2000:]\n",
    "text = beginning + end"
   ]
  },
  {
   "cell_type": "code",
   "execution_count": 72,
   "metadata": {
    "scrolled": true
   },
   "outputs": [
    {
     "data": {
      "text/plain": [
       "\"  Bundesverwaltungsgericht\\nTribunal administratif fédéral\\nTribunale amministrativo federale\\nTribunal administrativ federal\\n                Cour V\\nE-6691/2016\\n          Arrêt du 7 novembre 2016\\nComposition\\n  François Badoud, juge unique,\\navec l'approbation de Blaise Vuille, juge ;\\nBeata Jastrzebska, greffière.\\n      Parties\\n  A._______, née le (...),\\nErythrée, \\nreprésentée par Catalina Mendoza, Caritas Genève,\\n(...),\\nrecourante,\\n      contre\\n    Secrétariat d'Etat aux migrations (SEM),\\nQuellenweg 6, 3003 Berne,\\nautorité inférieure.\\n      Objet\\n  Asile (non-entrée en matière / procédure Dublin) et renvoi ; décision du SEM du 19 octobre 2016 / N (...).\\n     \\nVu\\nla demande d'asile déposée en Suisse par A._______, le 28 juillet 2015,\\nla décision du 9 octobre 2015, par laquelle le SEM, se fondant sur l'art. 31a al. 1 let. b LAsi (RS 142.31), n'est pas entré en matière sur cette demande et a prononcé le transfert de l'intéressée vers l'Italie,\\nl'arrêt du 22 octobre 2015, par lequel le Tribunaiation, et s'il l'a fait selon des critères objectifs et transparents, dans le respect des principes constitutionnels que sont le droit d'être entendu, l'égalité de traitement et la proportionnalité (cf. ATAF 2015/9 consid. 8),\\nqu'en l'espèce, le SEM a bel et bien fait usage de son pouvoir d'appréciation, conformément aux principes ci-dessus énoncés,\\nqu'il ressort, en effet, de la motivation de la décision attaquée que le SEM a envisagé l'application de l'art. 29a al. 3 OA1 en liaison avec l'art. 17 par. 1 du règlement Dublin III au cas de l'intéressée,\\nque dès lors, la décision attaquée n'est frappée d'aucune irrégularité sur ce point,\\nqu'au vu de ce qui précède, le recours doit être rejeté,\\nque, s'avérant manifestement infondé, il est rejeté dans une procédure à juge unique, avec l'approbation d'un second juge (art. 111 let. e LAsi),\\nqu'il est dès lors renoncé à un échange d'écritures, le présent arrêt n'étant motivé que sommairement (cf. art. 111a al. 1 et 2 LAsi),\\nque, dans la mesure où il a été immédiatement statué sur le fond, la requête tendant à l'octroi de l'effet suspensif au recours est sans objet,\\nqu'il en va de même de la requête tendant à la dispense du paiement d'avance des frais de procédure,\\nque, vu l'issue de la cause, il y a lieu de mettre les frais de procédure à la charge de la recourante, conformément aux art. 63 al. 1 PA et art. 2 et 3 let. b du règlement du 21 février 2008 concernant les frais, dépens et indemnités fixés par le Tribunal administratif fédéral (FITAF, RS 173.320.2),\\n(dispositif page suivante)\\n\\nle Tribunal administratif fédéral prononce :\\n1.\\nLe recours est rejeté.\\n2.\\nLes frais de procédure, d'un montant de 600 francs, sont mis à la charge de la recourante. Ce montant doit être versé sur le compte du Tribunal dans les 30 jours dès l'expédition du présent arrêt.\\n3.\\nLe présent arrêt est adressé à la recourante, au SEM et à l'autorité cantonale.\\n  Le juge unique :\\nLa greffière :\\n    François Badoud\\nBeata Jastrzebska\\n    Expédition :\""
      ]
     },
     "execution_count": 72,
     "metadata": {},
     "output_type": "execute_result"
    }
   ],
   "source": [
    "text"
   ]
  },
  {
   "cell_type": "markdown",
   "metadata": {},
   "source": [
    "# Finding the Dates"
   ]
  },
  {
   "cell_type": "code",
   "execution_count": 73,
   "metadata": {},
   "outputs": [
    {
     "data": {
      "text/plain": [
       "<_sre.SRE_Match object; span=(177, 192), match='7 novembre 2016'>"
      ]
     },
     "execution_count": 73,
     "metadata": {},
     "output_type": "execute_result"
    }
   ],
   "source": [
    "re.search(r'7 novembre 2016', text)"
   ]
  },
  {
   "cell_type": "code",
   "execution_count": 74,
   "metadata": {},
   "outputs": [
    {
     "data": {
      "text/plain": [
       "'7 novembre 2016'"
      ]
     },
     "execution_count": 74,
     "metadata": {},
     "output_type": "execute_result"
    }
   ],
   "source": [
    "re.search(r'7 novembre 2016', text).group()"
   ]
  },
  {
   "cell_type": "code",
   "execution_count": 75,
   "metadata": {},
   "outputs": [
    {
     "data": {
      "text/plain": [
       "'7 novembre 2016'"
      ]
     },
     "execution_count": 75,
     "metadata": {},
     "output_type": "execute_result"
    }
   ],
   "source": [
    "re.search(r'[0-9]* [a-zA-Zéèà]* 201[0-9]', text).group()"
   ]
  },
  {
   "cell_type": "markdown",
   "metadata": {},
   "source": [
    "# Finding the Nationality"
   ]
  },
  {
   "cell_type": "code",
   "execution_count": 76,
   "metadata": {},
   "outputs": [
    {
     "data": {
      "text/plain": [
       "'Parties\\n  A._______, née le (...),\\nErythrée, '"
      ]
     },
     "execution_count": 76,
     "metadata": {},
     "output_type": "execute_result"
    }
   ],
   "source": [
    "re.search(r'Parties\\n.*\\n.*', text).group()"
   ]
  },
  {
   "cell_type": "markdown",
   "metadata": {},
   "source": [
    "# Finding the Decision"
   ]
  },
  {
   "cell_type": "code",
   "execution_count": 77,
   "metadata": {},
   "outputs": [
    {
     "data": {
      "text/plain": [
       "'Tribunal administratif fédéral prononce :\\n1.\\nLe recours est rejeté.'"
      ]
     },
     "execution_count": 77,
     "metadata": {},
     "output_type": "execute_result"
    }
   ],
   "source": [
    "re.search(r'Tribunal administratif fédéral prononce :\\n1.\\n.*Le recours est rejeté.', text).group()"
   ]
  },
  {
   "cell_type": "code",
   "execution_count": 79,
   "metadata": {},
   "outputs": [
    {
     "data": {
      "text/plain": [
       "'Tribunal administratif fédéral prononce :\\n1.\\nLe recours est rejeté.'"
      ]
     },
     "execution_count": 79,
     "metadata": {},
     "output_type": "execute_result"
    }
   ],
   "source": [
    "re.search(r'Tribunal administratif fédéral prononce :\\n1.\\n.*\\.', text).group()"
   ]
  },
  {
   "cell_type": "markdown",
   "metadata": {},
   "source": [
    "# Lets test this on a German decision"
   ]
  },
  {
   "cell_type": "code",
   "execution_count": 85,
   "metadata": {},
   "outputs": [],
   "source": [
    "#Lets only read the beginning and end\n",
    "file = open('files/'+lst[3], 'r')\n",
    "text = file.read()\n",
    "beginning = text[:1000]\n",
    "end = text[-2000:]\n",
    "text = beginning + end"
   ]
  },
  {
   "cell_type": "code",
   "execution_count": 86,
   "metadata": {},
   "outputs": [
    {
     "data": {
      "text/plain": [
       "'  Bundesverwaltungsgericht\\nTribunal administratif fédéral\\nTribunale amministrativo federale\\nTribunal administrativ federal\\n                  Abteilung IV\\nD-6504/2016\\n          Urteil vom 3. November 2016\\nBesetzung\\n  Einzelrichter Fulvio Haefeli,\\nmit Zustimmung von Richter David R. Wenger;\\nGerichtsschreiber Gert Winter.\\n      Parteien\\n  A._______, geboren am (...),\\nIrak,\\n(...),\\nBeschwerdeführer,\\n      gegen\\n    Staatssekretariat für Migration (SEM),\\nQuellenweg 6, 3003 Bern,\\nVorinstanz.\\n      Gegenstand\\n  Asyl und Wegweisung;\\nVerfügung des SEM vom 19. September 2016 / N (...).\\n     \\nSachverhalt:\\nA.\\nDer Beschwerdeführer ersuchte am 20. August 2015 im Empfangs- und Verfahrenszentrum (EVZ) M._______ um Asyl. Anlässlich der Befragung vom 11. September 2015 zur Person (BzP) sowie der Anhörung vom 5. April 2016 durch das SEM machte er zur Begründung seines Asylgesuchs im Wesentlichen geltend, er stamme aus N._______ im Nordirak und sei ethnischer Kurde. Ungefähr am 20. Mai 2015 beziehungsweisesedokumente zu beschaffen (vgl. Art. 8 Abs. 4 AsylG und dazu auch BVGE 2008/34 E. 12), weshalb der Vollzug der Wegweisung auch als möglich zu bezeichnen ist (Art. 83 Abs. 2 AuG).\\n7.6 Zusammenfassend hat die Vorinstanz den Wegweisungsvollzug zu Recht als zulässig, zumutbar und möglich bezeichnet. Eine Anordnung der vorläufigen Aufnahme fällt somit ausser Betracht (Art. 83 Abs. 1-4 AuG).\\n8.\\nAus diesen Erwägungen ergibt sich, dass die angefochtene Verfügung Bundesrecht nicht verletzt, den rechtserheblichen Sachverhalt richtig sowie vollständig feststellt (Art. 106 Abs. 1 AsylG) und - soweit diesbezüglich überprüfbar - angemessen ist. Die Beschwerde ist abzuweisen.\\n9.  \\n9.1 Mit dem Urteil in der Hauptsache ist das Gesuch um Verzicht auf die Erhebung eines Kostenvorschusses gegenstandslos geworden.\\n9.2 Aufgrund der vorstehenden Erwägungen ergibt sich, dass sich die Begehren des Beschwerdeführers als aussichtslos erwiesen haben. Damit ist eine der kumulativ zu erfüllenden Voraussetzungen für die Gewährung der unentgeltlichen Rechtspflege nach Art. 65 Abs. 1 VwVG nicht erfüllt und der entsprechende Antrag ist abzuweisen.\\n9.3 Bei diesem Ausgang des Verfahrens sind die Kosten dem Beschwerdeführer aufzuerlegen (Art. 63 Abs. 1 VwVG) und auf insgesamt Fr. 600.- festzusetzen (Art. 1-3 des Reglements vom 21. Februar 2008 über die Kosten und Entschädigungen vor dem Bundesverwaltungsgericht [VGKE, SR 173.320.2]).\\n  (Dispositiv nächste Seite)\\n\\nDemnach erkennt das Bundesverwaltungsgericht:\\n1.\\nDie Beschwerde wird abgewiesen.\\n2.\\nDas Gesuch um Gewährung der unentgeltlichen Rechtspflege im Sinne von Art. 65 Abs. 1 VwVG wird abgewiesen.\\n3.\\nDie Verfahrenskosten von Fr. 600.- werden dem Beschwerdeführer auferlegt. Dieser Betrag ist innert 30 Tagen ab Versand des Urteils zugunsten der Gerichtskasse zu überweisen.\\n4.\\nDieses Urteil geht an den Beschwerdeführer, das SEM und die kantonale Migrationsbehörde.\\n  Der Einzelrichter:\\nDer Gerichtsschreiber:\\n    Fulvio Haefeli\\nGert Winter\\n    Versand:\\n '"
      ]
     },
     "execution_count": 86,
     "metadata": {},
     "output_type": "execute_result"
    }
   ],
   "source": [
    "text"
   ]
  },
  {
   "cell_type": "code",
   "execution_count": 87,
   "metadata": {},
   "outputs": [
    {
     "data": {
      "text/plain": [
       "'3. November 2016'"
      ]
     },
     "execution_count": 87,
     "metadata": {},
     "output_type": "execute_result"
    }
   ],
   "source": [
    "# Date\n",
    "re.search(r'[0-9]*(.) [a-zA-Zéèà]* 201[0-9]', text).group()"
   ]
  },
  {
   "cell_type": "code",
   "execution_count": 88,
   "metadata": {},
   "outputs": [
    {
     "data": {
      "text/plain": [
       "'Parteien\\n  A._______, geboren am (...),\\nIrak,'"
      ]
     },
     "execution_count": 88,
     "metadata": {},
     "output_type": "execute_result"
    }
   ],
   "source": [
    "#  Nationality\n",
    "re.search(r'Parteien\\n.*\\n.*', text).group()"
   ]
  },
  {
   "cell_type": "code",
   "execution_count": 89,
   "metadata": {},
   "outputs": [
    {
     "data": {
      "text/plain": [
       "'Demnach erkennt das Bundesverwaltungsgericht:\\n1.\\nDie Beschwerde wird abgewiesen.'"
      ]
     },
     "execution_count": 89,
     "metadata": {},
     "output_type": "execute_result"
    }
   ],
   "source": [
    "# Decision\n",
    "re.search(r'Demnach erkennt das Bundesverwaltungsgericht.*:\\n1.\\n.*\\.', text).group()"
   ]
  },
  {
   "cell_type": "markdown",
   "metadata": {},
   "source": [
    "# Looping through everything, first the dates"
   ]
  },
  {
   "cell_type": "code",
   "execution_count": 90,
   "metadata": {},
   "outputs": [],
   "source": [
    "lst = []\n",
    "\n",
    "for elem in os.listdir('files'):\n",
    "    \n",
    "    #Lets only read the beginning and end\n",
    "    file = open('files/'+elem, 'r')\n",
    "    text = file.read()\n",
    "    beginning = text[:1000]\n",
    "    end = text[-2000:]\n",
    "    text = beginning + end\n",
    "    \n",
    "    date = re.search(r'[0-9]*(.) [a-zA-Zéèà]* 201[0-9]', text).group()\n",
    "    \n",
    "    mini_dict = {'Date': date,\n",
    "                 'File': elem}\n",
    "    \n",
    "    lst.append(mini_dict)"
   ]
  },
  {
   "cell_type": "code",
   "execution_count": 91,
   "metadata": {},
   "outputs": [
    {
     "data": {
      "text/html": [
       "<div>\n",
       "<style scoped>\n",
       "    .dataframe tbody tr th:only-of-type {\n",
       "        vertical-align: middle;\n",
       "    }\n",
       "\n",
       "    .dataframe tbody tr th {\n",
       "        vertical-align: top;\n",
       "    }\n",
       "\n",
       "    .dataframe thead th {\n",
       "        text-align: right;\n",
       "    }\n",
       "</style>\n",
       "<table border=\"1\" class=\"dataframe\">\n",
       "  <thead>\n",
       "    <tr style=\"text-align: right;\">\n",
       "      <th></th>\n",
       "      <th>Date</th>\n",
       "      <th>File</th>\n",
       "    </tr>\n",
       "  </thead>\n",
       "  <tbody>\n",
       "    <tr>\n",
       "      <th>0</th>\n",
       "      <td>7 novembre 2016</td>\n",
       "      <td>289.txt</td>\n",
       "    </tr>\n",
       "    <tr>\n",
       "      <th>1</th>\n",
       "      <td>5 décembre 2016</td>\n",
       "      <td>504.txt</td>\n",
       "    </tr>\n",
       "    <tr>\n",
       "      <th>2</th>\n",
       "      <td>27 octobre 2016</td>\n",
       "      <td>262.txt</td>\n",
       "    </tr>\n",
       "    <tr>\n",
       "      <th>3</th>\n",
       "      <td>3. November 2016</td>\n",
       "      <td>276.txt</td>\n",
       "    </tr>\n",
       "    <tr>\n",
       "      <th>4</th>\n",
       "      <td>6. Dezember 2016</td>\n",
       "      <td>510.txt</td>\n",
       "    </tr>\n",
       "  </tbody>\n",
       "</table>\n",
       "</div>"
      ],
      "text/plain": [
       "               Date     File\n",
       "0   7 novembre 2016  289.txt\n",
       "1   5 décembre 2016  504.txt\n",
       "2   27 octobre 2016  262.txt\n",
       "3  3. November 2016  276.txt\n",
       "4  6. Dezember 2016  510.txt"
      ]
     },
     "execution_count": 91,
     "metadata": {},
     "output_type": "execute_result"
    }
   ],
   "source": [
    "#Making the DataFrame\n",
    "df = pd.DataFrame(lst)\n",
    "df.head()"
   ]
  },
  {
   "cell_type": "markdown",
   "metadata": {},
   "source": [
    "# Lets work with everything"
   ]
  },
  {
   "cell_type": "code",
   "execution_count": 92,
   "metadata": {},
   "outputs": [],
   "source": [
    "lst = []\n",
    "\n",
    "for elem in os.listdir('files'):\n",
    "    \n",
    "    #Lets only read the beginning and end\n",
    "    file = open('files/'+elem, 'r')\n",
    "    text = file.read()\n",
    "    beginning = text[:1000]\n",
    "    end = text[-2000:]\n",
    "    text = beginning + end\n",
    "    \n",
    "    date = re.search(r'[0-9]*(.) [a-zA-Zéèà]* 201[0-9]', text).group()\n",
    "    \n",
    "    try:\n",
    "        decD = re.search(r'Demnach erkennt das Bundesverwaltungsgericht:\\n1.*.*\\n.*.\\n', text).group()\n",
    "        natD = re.search(r'Parteien\\n.*\\n.*', text).group()\n",
    "    except:\n",
    "        decD = ''\n",
    "        natD = ''\n",
    "        \n",
    "    try:\n",
    "        decF = re.search(r'Tribunal administratif fédéral prononce\\s*:\\n1.*.*\\n.*.\\n', text).group()\n",
    "        natF = re.search(r'Parties\\n.*\\n.*', text).group()\n",
    "    except:\n",
    "        decF = ''\n",
    "        natF = ''\n",
    "    \n",
    "    mini_dict = {'Date': date,\n",
    "                 'File': elem, \n",
    "                 'DecisionDE': decD,\n",
    "                 'DecisionF': decF,\n",
    "                 'NationalityDE':natD,\n",
    "                 'NationalityF':natF}\n",
    "    \n",
    "    lst.append(mini_dict)"
   ]
  },
  {
   "cell_type": "code",
   "execution_count": 94,
   "metadata": {},
   "outputs": [],
   "source": [
    "df = pd.DataFrame(lst)"
   ]
  },
  {
   "cell_type": "markdown",
   "metadata": {},
   "source": [
    "# Lets clean the data a bit more"
   ]
  },
  {
   "cell_type": "code",
   "execution_count": 95,
   "metadata": {},
   "outputs": [
    {
     "name": "stdout",
     "output_type": "stream",
     "text": [
      "<class 'pandas.core.frame.DataFrame'>\n",
      "RangeIndex: 698 entries, 0 to 697\n",
      "Data columns (total 6 columns):\n",
      "Date             698 non-null object\n",
      "DecisionDE       698 non-null object\n",
      "DecisionF        698 non-null object\n",
      "File             698 non-null object\n",
      "NationalityDE    698 non-null object\n",
      "NationalityF     698 non-null object\n",
      "dtypes: object(6)\n",
      "memory usage: 32.8+ KB\n"
     ]
    }
   ],
   "source": [
    "df.info()"
   ]
  },
  {
   "cell_type": "code",
   "execution_count": 97,
   "metadata": {},
   "outputs": [],
   "source": [
    "df['Decision'] = df['DecisionDE'] + df['DecisionF']\n",
    "df['Nationality'] = df['NationalityDE'] + df['NationalityF']"
   ]
  },
  {
   "cell_type": "code",
   "execution_count": 98,
   "metadata": {
    "collapsed": true
   },
   "outputs": [],
   "source": [
    "df = df[['Date', 'Decision', 'File', 'Nationality']].copy()"
   ]
  },
  {
   "cell_type": "markdown",
   "metadata": {},
   "source": [
    "# Lets clean that data a little more"
   ]
  },
  {
   "cell_type": "code",
   "execution_count": 104,
   "metadata": {
    "collapsed": true
   },
   "outputs": [],
   "source": [
    "def nat(elem):\n",
    "    elem = elem.split('\\n')[-1].replace(',','').strip()\n",
    "    return elem"
   ]
  },
  {
   "cell_type": "code",
   "execution_count": 105,
   "metadata": {},
   "outputs": [],
   "source": [
    "df['Nat cleaned'] = df['Nationality'].apply(nat)"
   ]
  },
  {
   "cell_type": "code",
   "execution_count": 106,
   "metadata": {},
   "outputs": [
    {
     "data": {
      "text/plain": [
       "B._______ geboren am (...)                                         55\n",
       "Sri Lanka                                                          54\n",
       "Syrien                                                             48\n",
       "Eritrea                                                            44\n",
       "Irak                                                               26\n",
       "B._______ née le (...)                                             22\n",
       "Äthiopien                                                          17\n",
       "Iran                                                               16\n",
       "Afghanistan                                                        15\n",
       "Erythrée                                                           14\n",
       "                                                                   13\n",
       "Türkei                                                             11\n",
       "geboren am (...)                                                   11\n",
       "Géorgie                                                             9\n",
       "Staat unbekannt                                                     8\n",
       "Guinée                                                              8\n",
       "alias B._______ né le (...)                                         8\n",
       "dessen Ehefrau                                                      8\n",
       "Syrie                                                               7\n",
       "und deren Kinder                                                    6\n",
       "Nigéria                                                             6\n",
       "Pakistan                                                            6\n",
       "Somalia                                                             6\n",
       "Algerien                                                            6\n",
       "alias B._______ geboren am (...)                                    5\n",
       "Kosovo                                                              5\n",
       "Nigeria                                                             5\n",
       "Guinea                                                              5\n",
       "alias A._______ geboren am (...)                                    5\n",
       "Turquie                                                             5\n",
       "                                                                   ..\n",
       "Inde                                                                1\n",
       "Burkina Faso                                                        1\n",
       "Tschad                                                              1\n",
       "Yémen                                                               1\n",
       "ihre Tochter                                                        1\n",
       "Staat unbekannt (angeblich Libyen)                                  1\n",
       "und deren Ehemann                                                   1\n",
       "Staat unbekannt (eigenen Angaben zufolge China                      1\n",
       "(Beschwerdeführer 1)                                                1\n",
       "Georgien                                                            1\n",
       "mit ihrem Kind                                                      1\n",
       "Staat unbekannt (eigenen Angaben zufolge China [Volksrepublik])     1\n",
       "Gabon                                                               1\n",
       "Marokko                                                             1\n",
       "unbekannter Herkunft                                                1\n",
       "alias A._______ prétendant être né le                               1\n",
       "Arménie                                                             1\n",
       "alias B._______ geboren (...) Afghanistan                           1\n",
       "Deutschland                                                         1\n",
       "alias B._______ geboren am (...) Irak                               1\n",
       "angeblich Volksrepublik China (Tibet)                               1\n",
       "Ägypten und Iran                                                    1\n",
       "et son enfant B._______ né le (...)                                 1\n",
       "sowie deren Kinder                                                  1\n",
       "Soudan                                                              1\n",
       "sans nationalité d'origine palestinienne                            1\n",
       "Sénégal et Guinée                                                   1\n",
       "Ukraine et son épouse                                               1\n",
       "Pérou                                                               1\n",
       "B._______ née le (...) et leur enfant                               1\n",
       "Name: Nat cleaned, Length: 172, dtype: int64"
      ]
     },
     "execution_count": 106,
     "metadata": {},
     "output_type": "execute_result"
    }
   ],
   "source": [
    "df['Nat cleaned'].value_counts()"
   ]
  },
  {
   "cell_type": "code",
   "execution_count": null,
   "metadata": {
    "collapsed": true
   },
   "outputs": [],
   "source": []
  }
 ],
 "metadata": {
  "kernelspec": {
   "display_name": "Python 3",
   "language": "python",
   "name": "python3"
  },
  "language_info": {
   "codemirror_mode": {
    "name": "ipython",
    "version": 3
   },
   "file_extension": ".py",
   "mimetype": "text/x-python",
   "name": "python",
   "nbconvert_exporter": "python",
   "pygments_lexer": "ipython3",
   "version": "3.5.1"
  }
 },
 "nbformat": 4,
 "nbformat_minor": 2
}
